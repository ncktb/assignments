{
 "cells": [
  {
   "cell_type": "markdown",
   "metadata": {},
   "source": [
    "Before you turn this problem in, make sure everything runs as expected. First, **restart the kernel** (in the menubar, select Kernel$\\rightarrow$Restart) and then **run all cells** (in the menubar, select Cell$\\rightarrow$Run All).\n",
    "\n",
    "Make sure you fill in any place that says `YOUR CODE HERE` or \"YOUR ANSWER HERE\", as well as your name and collaborators below:"
   ]
  },
  {
   "cell_type": "code",
   "execution_count": 2,
   "metadata": {},
   "outputs": [],
   "source": [
    "NAME = \"Nick Weerts, 1265916\"\n",
    "COLLABORATORS = \"\""
   ]
  },
  {
   "cell_type": "markdown",
   "metadata": {},
   "source": []
  },
  {
   "cell_type": "markdown",
   "metadata": {},
   "source": [
    "Fill in the cell above to provide us with your name and student number, like\n",
    "\n",
    "NAME = \"Adam Smith, #student number#\"\n",
    "\n",
    "where you replace \"#student number#\" with your ... (very good!)\n",
    "\n",
    "and if you are doing this with someone else (not more than one other person):\n",
    "\n",
    "COLLABORATORS = \"Karl Marx, #student number#\""
   ]
  },
  {
   "cell_type": "markdown",
   "metadata": {
    "deletable": false,
    "editable": false,
    "nbgrader": {
     "checksum": "a7ae5c69becf064d614c6c38935eca51",
     "grade": false,
     "grade_id": "cell-895e9a7b94992ec9",
     "locked": true,
     "schema_version": 1,
     "solution": false
    }
   },
   "source": [
    "# exam June 7th, 2018\n"
   ]
  },
  {
   "cell_type": "markdown",
   "metadata": {
    "deletable": false,
    "editable": false,
    "nbgrader": {
     "checksum": "bc48d165f54aa364aa34509649fcdef5",
     "grade": false,
     "grade_id": "cell-540987818af25557",
     "locked": true,
     "schema_version": 1,
     "solution": false
    }
   },
   "source": [
    "\n",
    "In the first cell of the notebook, give us your name and student number in the way indicated above. If you do this notebook with --at max.-- one other student, give her/his name and student number as well under \"COLLABORATORS\".\n",
    "\n",
    "Fill in the notebook (see below for code cells and text cells that you need to fill in).\n",
    "\n",
    "If you look at the menus above (File, Edit, View etc.), there is one called \"Cell\". If you click on this, you can change the \"Cell Type\". Choose \"Code\" when you are typing python or R code. Choose \"Markdown\" when you are typing, well, markdown.\n",
    "\n",
    "When you finish the notebook, make sure that you **save it with the output of your code included**. \n",
    "\n",
    "Then put it on github, e.g. by dragging it onto github (see instructions below). \n",
    "\n",
    "Finally, add a link to your README file with the name of this exam: \"Exam June 7, 2018\".\n",
    "\n"
   ]
  },
  {
   "cell_type": "markdown",
   "metadata": {
    "deletable": false,
    "editable": false,
    "nbgrader": {
     "checksum": "6fad9bed312da1b0097e9c520b18e3fb",
     "grade": false,
     "grade_id": "cell-e1cf88cb799f1f43",
     "locked": true,
     "schema_version": 1,
     "solution": false
    }
   },
   "source": [
    "## price effects of mergers\n",
    "\n",
    "We consider a merger in this notebook. \n",
    "\n",
    "First we calculate the equilibrium with three firms, denoted by 1, 2 and 3. Then firms 2 and 3 merge so that we are left with 2 firms; denoted by 1 and 2.\n",
    "\n",
    "We calculate the effects of the merger on the equilibrium price.\n",
    "\n",
    "We start by importing the usual libraries."
   ]
  },
  {
   "cell_type": "code",
   "execution_count": 3,
   "metadata": {
    "deletable": false,
    "editable": false,
    "nbgrader": {
     "checksum": "7bd770ef54db47c3b6c8d0e31f6baef6",
     "grade": false,
     "grade_id": "cell-b895769bf40e183a",
     "locked": true,
     "schema_version": 1,
     "solution": false
    }
   },
   "outputs": [],
   "source": [
    "import matplotlib.pyplot as plt\n",
    "import pandas as pd\n",
    "import numpy as np\n",
    "from scipy import optimize\n",
    "%matplotlib inline"
   ]
  },
  {
   "cell_type": "markdown",
   "metadata": {},
   "source": [
    "The following code helps to calculate the equilibrium for the case with 3 firms. Note that you have seen similar code during the tutorials to calculate the equilibrium with 2 firms.\n",
    "\n",
    "We assume that before the merger each firm has constant marginal costs equal to 0.3. We assume a simple linear (inverse) demand curve of the form $p=1-Q$ where $p$ denotes price and $Q$ total output on the market. Total output equals the sum of each firm's output: $Q= q_1 + q_2+q_3$."
   ]
  },
  {
   "cell_type": "code",
   "execution_count": 4,
   "metadata": {
    "deletable": false,
    "editable": false,
    "nbgrader": {
     "checksum": "3e30f7ac9d9155ef089b8ca56a0c0436",
     "grade": false,
     "grade_id": "cell-f97a25efed556fd2",
     "locked": true,
     "schema_version": 1,
     "solution": false
    }
   },
   "outputs": [],
   "source": [
    "c0 = 0.3\n",
    "vector_c = [c0]*3\n",
    "\n",
    "def p(Q):\n",
    "    return 1 - Q\n",
    "\n",
    "def costs(q,c):\n",
    "    return c*q\n",
    "\n",
    "def profits(q,Q_other,c):\n",
    "    return p(q+Q_other)*q-costs(q,c)\n",
    "\n",
    "def reaction(Q_other,c):\n",
    "    q1 =  optimize.fminbound(lambda x: -profits(x,Q_other,c),0,1,full_output=1)\n",
    "    return q1[0]\n",
    "\n",
    "def fixed_point_three_firms(vector_q,vector_c):\n",
    "    return [vector_q[0]-reaction(vector_q[1]+vector_q[2],vector_c[0]),\n",
    "            vector_q[1]-reaction(vector_q[0]+vector_q[2],vector_c[1]),\n",
    "            vector_q[2]-reaction(vector_q[0]+vector_q[1],vector_c[2])]\n",
    "\n"
   ]
  },
  {
   "cell_type": "markdown",
   "metadata": {
    "deletable": false,
    "editable": false,
    "nbgrader": {
     "checksum": "f6ea3b2416aca7293a5450c45865f242",
     "grade": false,
     "grade_id": "cell-83284c4090d6de8c",
     "locked": true,
     "schema_version": 1,
     "solution": false
    }
   },
   "source": [
    "#### a) [0.5 points] Show that total equilibrium output equals  0.525. Derive the equilibrium price and Herfindahl index; denote these by `P0` and `H0` resp."
   ]
  },
  {
   "cell_type": "markdown",
   "metadata": {},
   "source": [
    "Here I use fsolve function to derive each firms output level. Then the sum of these is the industry output. And since the price, p, is a function of industry output, we can derive p.\n",
    "For code for H speaks for itself."
   ]
  },
  {
   "cell_type": "code",
   "execution_count": 5,
   "metadata": {
    "deletable": false,
    "nbgrader": {
     "checksum": "a06d73c35395adb00480733b458cb4a5",
     "grade": true,
     "grade_id": "cell-3b8ee172d9950128",
     "locked": false,
     "points": 0.5,
     "schema_version": 1,
     "solution": true
    }
   },
   "outputs": [
    {
     "name": "stdout",
     "output_type": "stream",
     "text": [
      "[ 0.175  0.175  0.175]\n",
      "0.525\n",
      "0.475\n",
      "0.333333333333\n"
     ]
    }
   ],
   "source": [
    "# YOUR CODE HERE\n",
    "guess= [0,0,0]\n",
    "q0 = optimize.fsolve(lambda q: fixed_point_three_firms(q,vector_c), guess)\n",
    "print(q0)\n",
    "Q0 = np.sum(q0)\n",
    "print(Q0)\n",
    "P0 = p(Q0)\n",
    "print(P0)\n",
    "H0 = np.sum((q0/Q0)**2)\n",
    "print(H0)"
   ]
  },
  {
   "cell_type": "markdown",
   "metadata": {
    "deletable": false,
    "editable": false,
    "nbgrader": {
     "checksum": "87b3b3e0e2d645c280e279312e489dc4",
     "grade": false,
     "grade_id": "cell-4b33762aa4a601fe",
     "locked": true,
     "schema_version": 1,
     "solution": false
    }
   },
   "source": [
    "#### b) [0.5 point] Define a function `fixed_point_two_firms` with the same structure as the function `fixed_point_three_firms` above, except that it derives the equilibrium output levels for a duopoly (two firms). Test this function by showing that each of the two firms produces 0.3333 in case both firms have zero costs."
   ]
  },
  {
   "cell_type": "markdown",
   "metadata": {},
   "source": [
    "Here I copied the model from above and changed it to a two firm setting, and changed one parameter c0. Then everything is calculated as above."
   ]
  },
  {
   "cell_type": "code",
   "execution_count": 6,
   "metadata": {
    "deletable": false,
    "nbgrader": {
     "checksum": "024a1519155d681b57c85292df535a65",
     "grade": true,
     "grade_id": "cell-5ee215676b91f504",
     "locked": false,
     "points": 0.5,
     "schema_version": 1,
     "solution": true
    }
   },
   "outputs": [
    {
     "name": "stdout",
     "output_type": "stream",
     "text": [
      "[ 0.33333333  0.33333333]\n",
      "0.666666666667\n",
      "0.475\n",
      "0.5\n"
     ]
    }
   ],
   "source": [
    "# YOUR CODE HERE\n",
    "c0 = 0\n",
    "vector_c = [c0]*2\n",
    "\n",
    "def p(Q):\n",
    "    return 1 - Q\n",
    "\n",
    "def costs(q,c):\n",
    "    return c*q\n",
    "\n",
    "def profits(q,Q_other,c):\n",
    "    return p(q+Q_other)*q-costs(q,c)\n",
    "\n",
    "def reaction(Q_other,c):\n",
    "    q1 =  optimize.fminbound(lambda x: -profits(x,Q_other,c),0,1,full_output=1)\n",
    "    return q1[0]\n",
    "\n",
    "def fixed_point_two_firms(vector_q,vector_c):\n",
    "    return [vector_q[0]-reaction(vector_q[1] ,vector_c[0]),\n",
    "            vector_q[1]-reaction(vector_q[0] ,vector_c[1])]\n",
    "guess= [0,0]\n",
    "q0 = optimize.fsolve(lambda q: fixed_point_two_firms(q,vector_c), guess)\n",
    "print(q0)\n",
    "Q0 = np.sum(q0)\n",
    "print(Q0)\n",
    "P1 = p(Q0)\n",
    "print(P0)\n",
    "H1 = np.sum((q0/Q0)**2)\n",
    "print(H1)\n"
   ]
  },
  {
   "cell_type": "markdown",
   "metadata": {
    "deletable": false,
    "editable": false,
    "nbgrader": {
     "checksum": "5291fc8716e367572fde17ebe5844d2f",
     "grade": false,
     "grade_id": "cell-c2fada02efd7b197",
     "locked": true,
     "schema_version": 1,
     "solution": false
    }
   },
   "source": [
    "The Dutch competition authority, ACM, is asked to evaluate the effects of a merger between firms 2 and 3. Firms 2 and 3 claim that by merging they can reduce their constant marginal costs. But it is not clear by how much they will reduce their costs.\n",
    "\n",
    "The ACM assumes that the marginal cost level of the merged firm is uniformly distributed between 0 and the current marginal cost level `c0`. The merger will not affect the marginal cost level of firm 1 who does not merge. Firm 1's cost level remains `c0`.\n",
    "\n",
    "The next cell generates a vector of cost levels for the merged firm, denoted `c_after_merger`. Evaluate \"c_after_merger\" in a separate cell if you do not understand the command that defines it.\n",
    "\n",
    "Then it calculates the equilibrium output levels for (the non-merging) firm 1 and (the merged) firm 2.\n",
    "\n",
    "Note that you need to specify `initial_guess`.\n"
   ]
  },
  {
   "cell_type": "code",
   "execution_count": 7,
   "metadata": {},
   "outputs": [],
   "source": [
    "c0 = 0.3\n",
    "initial_guess = [0.2,0.2]"
   ]
  },
  {
   "cell_type": "code",
   "execution_count": 8,
   "metadata": {
    "deletable": false,
    "editable": false,
    "nbgrader": {
     "checksum": "11299317cd53e31de9900700999b0324",
     "grade": false,
     "grade_id": "cell-ce91ab3e3225c57d",
     "locked": true,
     "schema_version": 1,
     "solution": false
    }
   },
   "outputs": [],
   "source": [
    "c_after_merger = np.random.uniform(0,c0,size = 100)\n",
    "\n",
    "q1_after_merger = [optimize.fsolve(lambda q: fixed_point_two_firms(q,[c0,c]), initial_guess)[0] for c in c_after_merger]\n",
    "q2_after_merger = [optimize.fsolve(lambda q: fixed_point_two_firms(q,[c0,c]), initial_guess)[1] for c in c_after_merger]\n",
    "\n",
    "\n"
   ]
  },
  {
   "cell_type": "markdown",
   "metadata": {
    "deletable": false,
    "editable": false,
    "nbgrader": {
     "checksum": "2b518306d6ff20ee42d0bc3085333095",
     "grade": false,
     "grade_id": "cell-0acc18b4f07a09f4",
     "locked": true,
     "schema_version": 1,
     "solution": false
    }
   },
   "source": [
    "#### c) [0.5 points] Create a dataframe called `df_after_merger` with three columns: `c_merged_firm`, `output_non_merging_firm`, `output_merged_firm` containing resp. the cost level of the merged firm, the output level of firm 1 and the output level of firm 2."
   ]
  },
  {
   "cell_type": "markdown",
   "metadata": {},
   "source": [
    " Here I create a dataframa using the pd.DataFrama.from_dict() function."
   ]
  },
  {
   "cell_type": "code",
   "execution_count": 9,
   "metadata": {
    "deletable": false,
    "nbgrader": {
     "checksum": "f4fc6a3bdef91fa3f656ccd3290c9f54",
     "grade": true,
     "grade_id": "cell-f3eacda828774f2d",
     "locked": false,
     "points": 0.5,
     "schema_version": 1,
     "solution": true
    }
   },
   "outputs": [
    {
     "data": {
      "text/html": [
       "<div>\n",
       "<table border=\"1\" class=\"dataframe\">\n",
       "  <thead>\n",
       "    <tr style=\"text-align: right;\">\n",
       "      <th></th>\n",
       "      <th>c_merged_firm</th>\n",
       "      <th>output_merged_firm</th>\n",
       "      <th>output_non_merging_firm</th>\n",
       "    </tr>\n",
       "  </thead>\n",
       "  <tbody>\n",
       "    <tr>\n",
       "      <th>0</th>\n",
       "      <td>0.203803</td>\n",
       "      <td>0.297465</td>\n",
       "      <td>0.201268</td>\n",
       "    </tr>\n",
       "    <tr>\n",
       "      <th>1</th>\n",
       "      <td>0.066075</td>\n",
       "      <td>0.389283</td>\n",
       "      <td>0.155358</td>\n",
       "    </tr>\n",
       "    <tr>\n",
       "      <th>2</th>\n",
       "      <td>0.271692</td>\n",
       "      <td>0.252205</td>\n",
       "      <td>0.223897</td>\n",
       "    </tr>\n",
       "    <tr>\n",
       "      <th>3</th>\n",
       "      <td>0.217881</td>\n",
       "      <td>0.288079</td>\n",
       "      <td>0.205960</td>\n",
       "    </tr>\n",
       "    <tr>\n",
       "      <th>4</th>\n",
       "      <td>0.096004</td>\n",
       "      <td>0.369331</td>\n",
       "      <td>0.165335</td>\n",
       "    </tr>\n",
       "    <tr>\n",
       "      <th>5</th>\n",
       "      <td>0.052350</td>\n",
       "      <td>0.398434</td>\n",
       "      <td>0.150783</td>\n",
       "    </tr>\n",
       "    <tr>\n",
       "      <th>6</th>\n",
       "      <td>0.110692</td>\n",
       "      <td>0.359538</td>\n",
       "      <td>0.170231</td>\n",
       "    </tr>\n",
       "    <tr>\n",
       "      <th>7</th>\n",
       "      <td>0.038112</td>\n",
       "      <td>0.407925</td>\n",
       "      <td>0.146037</td>\n",
       "    </tr>\n",
       "    <tr>\n",
       "      <th>8</th>\n",
       "      <td>0.005950</td>\n",
       "      <td>0.429367</td>\n",
       "      <td>0.135317</td>\n",
       "    </tr>\n",
       "    <tr>\n",
       "      <th>9</th>\n",
       "      <td>0.173100</td>\n",
       "      <td>0.317933</td>\n",
       "      <td>0.191033</td>\n",
       "    </tr>\n",
       "  </tbody>\n",
       "</table>\n",
       "</div>"
      ],
      "text/plain": [
       "   c_merged_firm  output_merged_firm  output_non_merging_firm\n",
       "0       0.203803            0.297465                 0.201268\n",
       "1       0.066075            0.389283                 0.155358\n",
       "2       0.271692            0.252205                 0.223897\n",
       "3       0.217881            0.288079                 0.205960\n",
       "4       0.096004            0.369331                 0.165335\n",
       "5       0.052350            0.398434                 0.150783\n",
       "6       0.110692            0.359538                 0.170231\n",
       "7       0.038112            0.407925                 0.146037\n",
       "8       0.005950            0.429367                 0.135317\n",
       "9       0.173100            0.317933                 0.191033"
      ]
     },
     "execution_count": 9,
     "metadata": {},
     "output_type": "execute_result"
    }
   ],
   "source": [
    "# YOUR CODE HERE\n",
    "data = {'output_non_merging_firm' : q1_after_merger, 'output_merged_firm' : q2_after_merger, 'c_merged_firm' : c_after_merger}\n",
    "df_after_merger = pd.DataFrame.from_dict(data)\n",
    "df_after_merger.head(10)"
   ]
  },
  {
   "cell_type": "markdown",
   "metadata": {
    "deletable": false,
    "editable": false,
    "nbgrader": {
     "checksum": "a5bf4171960844da9c57375d83b6eedf",
     "grade": false,
     "grade_id": "cell-7ad058be42e19df8",
     "locked": true,
     "schema_version": 1,
     "solution": false
    }
   },
   "source": [
    "#### d) [0.5 points] Add three columns to the dataframe with resp. total equilibrium output on the market, `Q`, equilibrium price, `P` and the Herfindahl index, `H`."
   ]
  },
  {
   "cell_type": "markdown",
   "metadata": {},
   "source": [
    "Since Price is 1 - Q, and since Q is an array of lenght 100. I create an array of 100 times 1. Then I substract Q from from 1 to create the resulting P array. Then everything is calculated and a new dataset is formed."
   ]
  },
  {
   "cell_type": "code",
   "execution_count": 10,
   "metadata": {
    "deletable": false,
    "nbgrader": {
     "checksum": "ab6179623b39a6ae634abea45326e4ab",
     "grade": true,
     "grade_id": "cell-9c39b11747803ca1",
     "locked": false,
     "points": 0.5,
     "schema_version": 1,
     "solution": true
    }
   },
   "outputs": [
    {
     "name": "stdout",
     "output_type": "stream",
     "text": [
      "[0.29746477359923912, 0.38928319135721151, 0.25220501798342249, 0.28807943441095041, 0.36933075880253752, 0.39843355744800074, 0.35953835025877939, 0.4079250367161219, 0.42936697282378811, 0.31793326545949302, 0.31871118444153956, 0.33403353135825337, 0.30233956323953204, 0.36228892575177929, 0.39132261643450733, 0.40220194898042116, 0.26163632611432164, 0.42300962325504771, 0.32199549385638171, 0.33599436630019197, 0.3000222369744609, 0.408546382861529, 0.33820416502790429, 0.26805410509265487, 0.4099815403269238, 0.38670350085138994, 0.28415185354466682, 0.27886991473715106, 0.43100105448977877, 0.29977032184416785, 0.274348729987412, 0.40232292658326196, 0.39453501810197517, 0.36108092282866694, 0.38117169529292955, 0.36257954005521448, 0.33287188638909854, 0.29010902310410758, 0.24106869120611182, 0.26021120310972951, 0.38749598830816806, 0.2567852740882382, 0.3946542738444283, 0.26835864485785488, 0.2660066259396861, 0.40358980918088339, 0.37387654912093049, 0.28289528636590461, 0.24535672268249675, 0.38485713464572541, 0.42733663766246138, 0.29703644679493807, 0.38528712043341251, 0.39227966223911287, 0.31279470942236565, 0.34212091522635113, 0.33934284678419674, 0.34657860325044637, 0.24280071052840985, 0.42335200307982962, 0.42527496117973762, 0.30914372497625253, 0.32835997592644706, 0.35657589463694744, 0.23698690389880742, 0.42975231531490798, 0.2454595246307742, 0.36115949820222287, 0.25598491243212329, 0.23835623262028249, 0.36091315978156568, 0.23738640952022066, 0.27321310296392043, 0.3637329900067891, 0.28488356288864564, 0.41284526266887378, 0.40187951218081186, 0.37978258319421765, 0.39515068180273555, 0.40195182206254954, 0.40088708017237351, 0.40159120461424697, 0.2499086119122079, 0.31228618786183182, 0.26131226428813475, 0.2356207324712572, 0.42456048709426014, 0.23355363528915624, 0.29854778543602328, 0.42593026804203249, 0.40328320362920517, 0.38304924646449751, 0.26619534142976298, 0.29767763619248144, 0.29826537545826298, 0.23710867270285726, 0.42581696217599568, 0.33098234471261112, 0.35177869798218814, 0.25500291662079005]\n",
      "[ 0.49873239  0.5446416   0.47610251  0.49403972  0.53466538  0.54921678\n",
      "  0.52976918  0.55396252  0.56468349  0.50896663  0.50935559  0.51701677\n",
      "  0.50116978  0.53114446  0.54566131  0.55110097  0.48081816  0.56150481\n",
      "  0.51099775  0.51799718  0.50001112  0.55427319  0.51910208  0.48402705\n",
      "  0.55499077  0.54335175  0.49207593  0.48943496  0.56550053  0.49988516\n",
      "  0.48717436  0.55116146  0.54726751  0.53054046  0.54058585  0.53128977\n",
      "  0.51643594  0.49505451  0.47053435  0.4801056   0.54374799  0.47839264\n",
      "  0.54732714  0.48417932  0.48300331  0.5517949   0.53693827  0.49144764\n",
      "  0.47267836  0.54242857  0.56366832  0.49851822  0.54264356  0.54613983\n",
      "  0.50639735  0.52106046  0.51967142  0.5232893   0.47140036  0.561676\n",
      "  0.56263748  0.50457186  0.51417999  0.52828795  0.46849345  0.56487616\n",
      "  0.47272976  0.53057975  0.47799246  0.46917812  0.53045658  0.4686932\n",
      "  0.48660655  0.5318665   0.49244178  0.55642263  0.55093976  0.53989129\n",
      "  0.54757534  0.55097591  0.55044354  0.5507956   0.47495431  0.50614309\n",
      "  0.48065613  0.46781037  0.56228024  0.46677682  0.49927389  0.56296513\n",
      "  0.5516416   0.54152462  0.48309767  0.49883882  0.49913269  0.46855434\n",
      "  0.56290848  0.51549117  0.52588935  0.47750146]\n",
      "[ 0.50126761  0.4553584   0.52389749  0.50596028  0.46533462  0.45078322\n",
      "  0.47023082  0.44603748  0.43531651  0.49103337  0.49064441  0.48298323\n",
      "  0.49883022  0.46885554  0.45433869  0.44889903  0.51918184  0.43849519\n",
      "  0.48900225  0.48200282  0.49998888  0.44572681  0.48089792  0.51597295\n",
      "  0.44500923  0.45664825  0.50792407  0.51056504  0.43449947  0.50011484\n",
      "  0.51282564  0.44883854  0.45273249  0.46945954  0.45941415  0.46871023\n",
      "  0.48356406  0.50494549  0.52946565  0.5198944   0.45625201  0.52160736\n",
      "  0.45267286  0.51582068  0.51699669  0.4482051   0.46306173  0.50855236\n",
      "  0.52732164  0.45757143  0.43633168  0.50148178  0.45735644  0.45386017\n",
      "  0.49360265  0.47893954  0.48032858  0.4767107   0.52859964  0.438324\n",
      "  0.43736252  0.49542814  0.48582001  0.47171205  0.53150655  0.43512384\n",
      "  0.52727024  0.46942025  0.52200754  0.53082188  0.46954342  0.5313068\n",
      "  0.51339345  0.4681335   0.50755822  0.44357737  0.44906024  0.46010871\n",
      "  0.45242466  0.44902409  0.44955646  0.4492044   0.52504569  0.49385691\n",
      "  0.51934387  0.53218963  0.43771976  0.53322318  0.50072611  0.43703487\n",
      "  0.4483584   0.45847538  0.51690233  0.50116118  0.50086731  0.53144566\n",
      "  0.43709152  0.48450883  0.47411065  0.52249854]\n",
      "[ 0.51860199  0.59223609  0.50176755  0.5138145   0.57278632  0.60166238\n",
      "  0.56384581  0.6117478   0.63558247  0.53108236  0.53160828  0.54267799\n",
      "  0.52132845  0.56631436  0.59431081  0.60563019  0.50389812  0.6283724\n",
      "  0.53386813  0.54418847  0.52001245  0.61241847  0.54591519  0.50578885\n",
      "  0.61397234  0.58963387  0.51199865  0.50973831  0.6374542   0.51987156\n",
      "  0.50797402  0.60575837  0.59760956  0.56522603  0.58413902  0.56657715\n",
      "  0.54179287  0.51479692  0.50030404  0.50352589  0.59043063  0.50270359\n",
      "  0.59773273  0.50588714  0.50514799  0.60710369  0.57707678  0.51144181\n",
      "  0.50072791  0.58778678  0.63326728  0.51837011  0.58821578  0.59528967\n",
      "  0.52770013  0.54903825  0.54681495  0.55268767  0.50045377  0.62875774\n",
      "  0.63092831  0.52539592  0.53842492  0.56122553  0.50006842  0.63602319\n",
      "  0.50074024  0.56529662  0.50252643  0.50012894  0.5650754   0.50008413\n",
      "  0.50755617  0.56762389  0.51232832  0.61709264  0.60528879  0.58277786\n",
      "  0.59824601  0.60536532  0.6042402   0.60498382  0.50137016  0.52737421\n",
      "  0.50381194  0.5000269   0.63012058  0.50000025  0.51919387  0.63167043\n",
      "  0.60677761  0.58599081  0.5052056   0.51871769  0.51903876  0.50007304\n",
      "  0.63154203  0.54036879  0.55706895  0.50231688]\n"
     ]
    },
    {
     "data": {
      "text/html": [
       "<div>\n",
       "<table border=\"1\" class=\"dataframe\">\n",
       "  <thead>\n",
       "    <tr style=\"text-align: right;\">\n",
       "      <th></th>\n",
       "      <th>Herfindahl index</th>\n",
       "      <th>Output</th>\n",
       "      <th>Price</th>\n",
       "      <th>c_merged_firm</th>\n",
       "      <th>output_merged_firm</th>\n",
       "      <th>output_non_merging_firm</th>\n",
       "    </tr>\n",
       "  </thead>\n",
       "  <tbody>\n",
       "    <tr>\n",
       "      <th>0</th>\n",
       "      <td>0.518602</td>\n",
       "      <td>0.498732</td>\n",
       "      <td>0.501268</td>\n",
       "      <td>0.203803</td>\n",
       "      <td>0.297465</td>\n",
       "      <td>0.201268</td>\n",
       "    </tr>\n",
       "    <tr>\n",
       "      <th>1</th>\n",
       "      <td>0.592236</td>\n",
       "      <td>0.544642</td>\n",
       "      <td>0.455358</td>\n",
       "      <td>0.066075</td>\n",
       "      <td>0.389283</td>\n",
       "      <td>0.155358</td>\n",
       "    </tr>\n",
       "    <tr>\n",
       "      <th>2</th>\n",
       "      <td>0.501768</td>\n",
       "      <td>0.476103</td>\n",
       "      <td>0.523897</td>\n",
       "      <td>0.271692</td>\n",
       "      <td>0.252205</td>\n",
       "      <td>0.223897</td>\n",
       "    </tr>\n",
       "    <tr>\n",
       "      <th>3</th>\n",
       "      <td>0.513815</td>\n",
       "      <td>0.494040</td>\n",
       "      <td>0.505960</td>\n",
       "      <td>0.217881</td>\n",
       "      <td>0.288079</td>\n",
       "      <td>0.205960</td>\n",
       "    </tr>\n",
       "    <tr>\n",
       "      <th>4</th>\n",
       "      <td>0.572786</td>\n",
       "      <td>0.534665</td>\n",
       "      <td>0.465335</td>\n",
       "      <td>0.096004</td>\n",
       "      <td>0.369331</td>\n",
       "      <td>0.165335</td>\n",
       "    </tr>\n",
       "    <tr>\n",
       "      <th>5</th>\n",
       "      <td>0.601662</td>\n",
       "      <td>0.549217</td>\n",
       "      <td>0.450783</td>\n",
       "      <td>0.052350</td>\n",
       "      <td>0.398434</td>\n",
       "      <td>0.150783</td>\n",
       "    </tr>\n",
       "    <tr>\n",
       "      <th>6</th>\n",
       "      <td>0.563846</td>\n",
       "      <td>0.529769</td>\n",
       "      <td>0.470231</td>\n",
       "      <td>0.110692</td>\n",
       "      <td>0.359538</td>\n",
       "      <td>0.170231</td>\n",
       "    </tr>\n",
       "    <tr>\n",
       "      <th>7</th>\n",
       "      <td>0.611748</td>\n",
       "      <td>0.553963</td>\n",
       "      <td>0.446037</td>\n",
       "      <td>0.038112</td>\n",
       "      <td>0.407925</td>\n",
       "      <td>0.146037</td>\n",
       "    </tr>\n",
       "    <tr>\n",
       "      <th>8</th>\n",
       "      <td>0.635582</td>\n",
       "      <td>0.564683</td>\n",
       "      <td>0.435317</td>\n",
       "      <td>0.005950</td>\n",
       "      <td>0.429367</td>\n",
       "      <td>0.135317</td>\n",
       "    </tr>\n",
       "    <tr>\n",
       "      <th>9</th>\n",
       "      <td>0.531082</td>\n",
       "      <td>0.508967</td>\n",
       "      <td>0.491033</td>\n",
       "      <td>0.173100</td>\n",
       "      <td>0.317933</td>\n",
       "      <td>0.191033</td>\n",
       "    </tr>\n",
       "  </tbody>\n",
       "</table>\n",
       "</div>"
      ],
      "text/plain": [
       "   Herfindahl index    Output     Price  c_merged_firm  output_merged_firm  \\\n",
       "0          0.518602  0.498732  0.501268       0.203803            0.297465   \n",
       "1          0.592236  0.544642  0.455358       0.066075            0.389283   \n",
       "2          0.501768  0.476103  0.523897       0.271692            0.252205   \n",
       "3          0.513815  0.494040  0.505960       0.217881            0.288079   \n",
       "4          0.572786  0.534665  0.465335       0.096004            0.369331   \n",
       "5          0.601662  0.549217  0.450783       0.052350            0.398434   \n",
       "6          0.563846  0.529769  0.470231       0.110692            0.359538   \n",
       "7          0.611748  0.553963  0.446037       0.038112            0.407925   \n",
       "8          0.635582  0.564683  0.435317       0.005950            0.429367   \n",
       "9          0.531082  0.508967  0.491033       0.173100            0.317933   \n",
       "\n",
       "   output_non_merging_firm  \n",
       "0                 0.201268  \n",
       "1                 0.155358  \n",
       "2                 0.223897  \n",
       "3                 0.205960  \n",
       "4                 0.165335  \n",
       "5                 0.150783  \n",
       "6                 0.170231  \n",
       "7                 0.146037  \n",
       "8                 0.135317  \n",
       "9                 0.191033  "
      ]
     },
     "execution_count": 10,
     "metadata": {},
     "output_type": "execute_result"
    }
   ],
   "source": [
    "# YOUR CODE HERE\n",
    "print(q2_after_merger)\n",
    "Q = np.add(q1_after_merger, q2_after_merger)\n",
    "np.count_nonzero(Q)\n",
    "print(Q)\n",
    "a = [1]*100\n",
    "P = np.add(a, (-Q))\n",
    "print(P)\n",
    "H = np.add((q1_after_merger/Q)**2, (q2_after_merger/Q)**2)\n",
    "print(H)\n",
    "data2 = {'output_non_merging_firm' : q1_after_merger, 'output_merged_firm' : q2_after_merger,\n",
    "         'c_merged_firm' : c_after_merger, 'Price' : P, 'Output' : Q, 'Herfindahl index' : H}\n",
    "df_after_merger2 = pd.DataFrame.from_dict(data2)\n",
    "df_after_merger2.head(10)\n"
   ]
  },
  {
   "cell_type": "markdown",
   "metadata": {},
   "source": [
    "#### e) [0.5 points] Make a histogram of the equilibrium price `P` after the merger. Also indicate in the histogram the equilibrium price before the merger `P0`. Label the horizontal axis with $P$.\n",
    "\n",
    "[hint: you may want to use matplotlib's `hist`, `vlines` and `legend` to make this graph (e.g use google to find these functions); but feel free to use something else]"
   ]
  },
  {
   "cell_type": "code",
   "execution_count": 16,
   "metadata": {
    "deletable": false,
    "nbgrader": {
     "checksum": "b103cd98545261b20f937f4b9db67f68",
     "grade": true,
     "grade_id": "cell-f9193bf8e71f1a9a",
     "locked": false,
     "points": 0.5,
     "schema_version": 1,
     "solution": true
    }
   },
   "outputs": [
    {
     "data": {
      "text/plain": [
       "<matplotlib.text.Text at 0x7f6d33c01780>"
      ]
     },
     "execution_count": 16,
     "metadata": {},
     "output_type": "execute_result"
    },
    {
     "data": {
      "image/png": "[encoded data removed]",
      "text/plain": [
       "<matplotlib.figure.Figure at 0x7f6d33b512b0>"
      ]
     },
     "metadata": {},
     "output_type": "display_data"
    }
   ],
   "source": [
    "# YOUR CODE HERE\n",
    "plt.hist(df_after_merger2[\"Price\"], bins=10)\n",
    "plt.xlabel(\"Price\")"
   ]
  },
  {
   "cell_type": "markdown",
   "metadata": {},
   "source": [
    "#### f) [0.5 points] Explain why sometimes the equilibrium price after the merger exceeds the equilibrium price before the merger and sometimes it is lower than the pre-merger price. [hint: there is a trade off between two effects, depending on which effect dominates, equilibrium price increases or decreases after the merger]"
   ]
  },
  {
   "cell_type": "markdown",
   "metadata": {
    "deletable": false,
    "nbgrader": {
     "checksum": "dd9fc721b7cf7f66587e93cbfb758034",
     "grade": true,
     "grade_id": "cell-7a1f367cd2854156",
     "locked": false,
     "points": 0.5,
     "schema_version": 1,
     "solution": true
    }
   },
   "source": [
    "The change after a merger depends on the following two, often counter-acting, effects:\n",
    "\n",
    "1 is de effect of reduced competition. This effect tends to decrease total output, to increase the price en therefore profits. Generally, how lower the amount of competitors, how higher the price. This happens for the following reason: with less firms marginal revenue for a firm depends more now on its own production level. Therefor mr=mc at a lower individual output level than before, decreasing output and increasing price.\n",
    "\n",
    "2 is the effect of decreased marginal costs. This potential decrease is associated with higher marginal profit levels at old output levels. Therefore the new optimum, where mr=mc will be at a higher output level, decreasing the price.\n",
    "\n",
    "The conclusion is that the reduction in MC has to be relatively large in order for a merger to decrease prices."
   ]
  },
  {
   "cell_type": "markdown",
   "metadata": {
    "deletable": false,
    "editable": false,
    "nbgrader": {
     "checksum": "e1e41dbf14c605bf91cdc78f70eada99",
     "grade": false,
     "grade_id": "cell-06ed6044f8938a45",
     "locked": true,
     "schema_version": 1,
     "solution": false
    }
   },
   "source": [
    "#### g) [0.5 points] Make a graph with the Herfindahl index on the horizontal axis and the equilibrium price on the vertical axis. This is straightforward for $(H,P)$ after the merger as both values are in the dataframe. Add in another color, the pre-merger combination `(H0,P0)` that we calculated above."
   ]
  },
  {
   "cell_type": "code",
   "execution_count": 13,
   "metadata": {
    "deletable": false,
    "nbgrader": {
     "checksum": "51cfaacbaf533e85d9794bc74712afd5",
     "grade": true,
     "grade_id": "cell-d647464d04870b73",
     "locked": false,
     "points": 0.5,
     "schema_version": 1,
     "solution": true
    }
   },
   "outputs": [
    {
     "data": {
      "text/plain": [
       "<matplotlib.collections.PathCollection at 0x7f6d33c5c470>"
      ]
     },
     "execution_count": 13,
     "metadata": {},
     "output_type": "execute_result"
    },
    {
     "data": {
      "image/png": "[encoded data removed]",
      "text/plain": [
       "<matplotlib.figure.Figure at 0x7f6d33cae8d0>"
      ]
     },
     "metadata": {},
     "output_type": "display_data"
    }
   ],
   "source": [
    "# YOUR CODE HERE\n",
    "plt.scatter(df_after_merger2[\"Herfindahl index\"],df_after_merger2[\"Price\"]) \n",
    "plt.scatter(H0, P0)"
   ]
  },
  {
   "cell_type": "markdown",
   "metadata": {
    "deletable": false,
    "editable": false,
    "nbgrader": {
     "checksum": "11b6609131b1c25886f2c6cafe0f7a59",
     "grade": false,
     "grade_id": "cell-5c5e5776a7c135a2",
     "locked": true,
     "schema_version": 1,
     "solution": false
    }
   },
   "source": [
    "#### h) [0.5 points] Use the graph under g) to discuss the relation between the Herfindahl index and the equilibrium price. To illustrate, some people think that lower values of the Herfindahl index are associated with more competitive outcome. Would you agree with this?"
   ]
  },
  {
   "cell_type": "markdown",
   "metadata": {
    "collapsed": true,
    "deletable": false,
    "nbgrader": {
     "checksum": "3d396887dde3b00420c623b9f4ea8ed2",
     "grade": true,
     "grade_id": "cell-cbd89d483b23a953",
     "locked": false,
     "points": 0.5,
     "schema_version": 1,
     "solution": true
    }
   },
   "source": [
    "\n",
    "The equilibrium price depends as specified earlier on two effects. If an higher H is associated with lower marginal costs, then as in the after-merger situation, prices drop. If however H increases, without a decrease in MC, then prices will increase. \n",
    "\n",
    "Therefor the effect of the merger on prices is ambiguous, since the effect of the merger on the MC of the merged firm is unsure. As seen in the scatter, the left half of the blue line represents the less decreased MC values. So in these cases, there is a positive relationship from for H and P for the two observations before and after merger. \n",
    "\n",
    "So to conclude, only if MC are not expexted to decrease very substantially, I agree."
   ]
  },
  {
   "cell_type": "markdown",
   "metadata": {},
   "source": [
    "## Github\n",
    "\n",
    "After you have finished, we need to upload this notebook on github. Make sure that you upload the file on the github page of each collaborator."
   ]
  },
  {
   "cell_type": "markdown",
   "metadata": {},
   "source": [
    "Instructions on how to upload this on github can be found [on this page](http://janboone.github.io/programming-for-economists/github.html). This page has two screencasts: one shows how to drag the notebook onto your github page, the other shows how you can use the command line to upload your notebook.\n"
   ]
  },
  {
   "cell_type": "markdown",
   "metadata": {},
   "source": [
    "Remember to update the README file in your repository to include a link to this notebook on github.\n",
    "\n",
    "\n",
    "The links that you should post start with “github.com/” and are NOT of the form “http://localhost”. Make sure you test your links after uploading."
   ]
  },
  {
   "cell_type": "code",
   "execution_count": null,
   "metadata": {},
   "outputs": [],
   "source": []
  }
 ],
 "metadata": {
  "anaconda-cloud": {},
  "kernelspec": {
   "display_name": "Python 3",
   "language": "python",
   "name": "python3"
  },
  "language_info": {
   "codemirror_mode": {
    "name": "ipython",
    "version": 3
   },
   "file_extension": ".py",
   "mimetype": "text/x-python",
   "name": "python",
   "nbconvert_exporter": "python",
   "pygments_lexer": "ipython3",
   "version": "3.5.3"
  }
 },
 "nbformat": 4,
 "nbformat_minor": 1
}
